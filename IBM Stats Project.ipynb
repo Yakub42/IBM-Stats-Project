{
 "cells": [
  {
   "cell_type": "code",
   "execution_count": 1,
   "id": "a277c088",
   "metadata": {},
   "outputs": [],
   "source": [
    "import pandas as pd\n",
    "import numpy as np\n",
    "import seaborn as sns\n",
    "from matplotlib import pyplot as plt\n",
    "import scipy.stats\n",
    "import statsmodels.api as sm"
   ]
  },
  {
   "cell_type": "markdown",
   "id": "60e49947",
   "metadata": {},
   "source": [
    "# PROJECT CASE SCENARIO\n",
    "You are a Data Scientist with a housing agency in Boston MA, you have been given access to a previous dataset on housing prices derived from the U.S Census Service to present insights to higher management. Based on your experience in Statistics, what information can you provide them to help with making an informed decision? Upper management will like to get some insight into the following: \n",
    "<li> Is there a significant difference in the median values of houses of each proportion of owner occupied units built before 1940?\n",
    "<li> Is there a difference in median values of houses of each proportion of owner occupied units built before 1940?\n",
    "<li> Can we conclude that there is no relationship between Nitric Oxide concentrations and the proportion of non-retail business acres per town?\n",
    "<li> What is the impact of an additional weighted distance to the five Boston employment centres on the median value of owner-occupied homes?\n",
    "    \n",
    "    \n",
    "Use appropriate visualizations and statistics that you think will be useful for the upper management to give them an insight to the questions they are asking."
   ]
  },
  {
   "cell_type": "code",
   "execution_count": 2,
   "id": "a3dff2b4",
   "metadata": {},
   "outputs": [
    {
     "data": {
      "text/html": [
       "<div>\n",
       "<style scoped>\n",
       "    .dataframe tbody tr th:only-of-type {\n",
       "        vertical-align: middle;\n",
       "    }\n",
       "\n",
       "    .dataframe tbody tr th {\n",
       "        vertical-align: top;\n",
       "    }\n",
       "\n",
       "    .dataframe thead th {\n",
       "        text-align: right;\n",
       "    }\n",
       "</style>\n",
       "<table border=\"1\" class=\"dataframe\">\n",
       "  <thead>\n",
       "    <tr style=\"text-align: right;\">\n",
       "      <th></th>\n",
       "      <th>CRIM</th>\n",
       "      <th>ZN</th>\n",
       "      <th>INDUS</th>\n",
       "      <th>CHAS</th>\n",
       "      <th>NOX</th>\n",
       "      <th>RM</th>\n",
       "      <th>AGE</th>\n",
       "      <th>DIS</th>\n",
       "      <th>RAD</th>\n",
       "      <th>TAX</th>\n",
       "      <th>PTRATIO</th>\n",
       "      <th>LSTAT</th>\n",
       "      <th>MEDV</th>\n",
       "    </tr>\n",
       "  </thead>\n",
       "  <tbody>\n",
       "    <tr>\n",
       "      <th>0</th>\n",
       "      <td>0.00632</td>\n",
       "      <td>18.0</td>\n",
       "      <td>2.31</td>\n",
       "      <td>0.0</td>\n",
       "      <td>0.538</td>\n",
       "      <td>6.575</td>\n",
       "      <td>65.2</td>\n",
       "      <td>4.0900</td>\n",
       "      <td>1.0</td>\n",
       "      <td>296.0</td>\n",
       "      <td>15.3</td>\n",
       "      <td>4.98</td>\n",
       "      <td>24.0</td>\n",
       "    </tr>\n",
       "    <tr>\n",
       "      <th>1</th>\n",
       "      <td>0.02731</td>\n",
       "      <td>0.0</td>\n",
       "      <td>7.07</td>\n",
       "      <td>0.0</td>\n",
       "      <td>0.469</td>\n",
       "      <td>6.421</td>\n",
       "      <td>78.9</td>\n",
       "      <td>4.9671</td>\n",
       "      <td>2.0</td>\n",
       "      <td>242.0</td>\n",
       "      <td>17.8</td>\n",
       "      <td>9.14</td>\n",
       "      <td>21.6</td>\n",
       "    </tr>\n",
       "    <tr>\n",
       "      <th>2</th>\n",
       "      <td>0.02729</td>\n",
       "      <td>0.0</td>\n",
       "      <td>7.07</td>\n",
       "      <td>0.0</td>\n",
       "      <td>0.469</td>\n",
       "      <td>7.185</td>\n",
       "      <td>61.1</td>\n",
       "      <td>4.9671</td>\n",
       "      <td>2.0</td>\n",
       "      <td>242.0</td>\n",
       "      <td>17.8</td>\n",
       "      <td>4.03</td>\n",
       "      <td>34.7</td>\n",
       "    </tr>\n",
       "    <tr>\n",
       "      <th>3</th>\n",
       "      <td>0.03237</td>\n",
       "      <td>0.0</td>\n",
       "      <td>2.18</td>\n",
       "      <td>0.0</td>\n",
       "      <td>0.458</td>\n",
       "      <td>6.998</td>\n",
       "      <td>45.8</td>\n",
       "      <td>6.0622</td>\n",
       "      <td>3.0</td>\n",
       "      <td>222.0</td>\n",
       "      <td>18.7</td>\n",
       "      <td>2.94</td>\n",
       "      <td>33.4</td>\n",
       "    </tr>\n",
       "    <tr>\n",
       "      <th>4</th>\n",
       "      <td>0.06905</td>\n",
       "      <td>0.0</td>\n",
       "      <td>2.18</td>\n",
       "      <td>0.0</td>\n",
       "      <td>0.458</td>\n",
       "      <td>7.147</td>\n",
       "      <td>54.2</td>\n",
       "      <td>6.0622</td>\n",
       "      <td>3.0</td>\n",
       "      <td>222.0</td>\n",
       "      <td>18.7</td>\n",
       "      <td>5.33</td>\n",
       "      <td>36.2</td>\n",
       "    </tr>\n",
       "  </tbody>\n",
       "</table>\n",
       "</div>"
      ],
      "text/plain": [
       "      CRIM    ZN  INDUS  CHAS    NOX     RM   AGE     DIS  RAD    TAX  \\\n",
       "0  0.00632  18.0   2.31   0.0  0.538  6.575  65.2  4.0900  1.0  296.0   \n",
       "1  0.02731   0.0   7.07   0.0  0.469  6.421  78.9  4.9671  2.0  242.0   \n",
       "2  0.02729   0.0   7.07   0.0  0.469  7.185  61.1  4.9671  2.0  242.0   \n",
       "3  0.03237   0.0   2.18   0.0  0.458  6.998  45.8  6.0622  3.0  222.0   \n",
       "4  0.06905   0.0   2.18   0.0  0.458  7.147  54.2  6.0622  3.0  222.0   \n",
       "\n",
       "   PTRATIO  LSTAT  MEDV  \n",
       "0     15.3   4.98  24.0  \n",
       "1     17.8   9.14  21.6  \n",
       "2     17.8   4.03  34.7  \n",
       "3     18.7   2.94  33.4  \n",
       "4     18.7   5.33  36.2  "
      ]
     },
     "execution_count": 2,
     "metadata": {},
     "output_type": "execute_result"
    }
   ],
   "source": [
    "#gathering the data\n",
    "boston_url = 'https://cf-courses-data.s3.us.cloud-object-storage.appdomain.cloud/IBMDeveloperSkillsNetwork-ST0151EN-SkillsNetwork/labs/boston_housing.csv'\n",
    "df=pd.read_csv(boston_url, index_col=0)\n",
    "df.head()"
   ]
  },
  {
   "cell_type": "code",
   "execution_count": 3,
   "id": "06966118",
   "metadata": {},
   "outputs": [
    {
     "name": "stdout",
     "output_type": "stream",
     "text": [
      "<class 'pandas.core.frame.DataFrame'>\n",
      "Int64Index: 506 entries, 0 to 505\n",
      "Data columns (total 13 columns):\n",
      " #   Column   Non-Null Count  Dtype  \n",
      "---  ------   --------------  -----  \n",
      " 0   CRIM     506 non-null    float64\n",
      " 1   ZN       506 non-null    float64\n",
      " 2   INDUS    506 non-null    float64\n",
      " 3   CHAS     506 non-null    float64\n",
      " 4   NOX      506 non-null    float64\n",
      " 5   RM       506 non-null    float64\n",
      " 6   AGE      506 non-null    float64\n",
      " 7   DIS      506 non-null    float64\n",
      " 8   RAD      506 non-null    float64\n",
      " 9   TAX      506 non-null    float64\n",
      " 10  PTRATIO  506 non-null    float64\n",
      " 11  LSTAT    506 non-null    float64\n",
      " 12  MEDV     506 non-null    float64\n",
      "dtypes: float64(13)\n",
      "memory usage: 55.3 KB\n"
     ]
    }
   ],
   "source": [
    "df.info()"
   ]
  },
  {
   "cell_type": "markdown",
   "id": "8e5f6f19",
   "metadata": {},
   "source": [
    "The following describes the dataset variables:\n",
    "\n",
    "·      CRIM - per capita crime rate by town\n",
    "\n",
    "·      ZN - proportion of residential land zoned for lots over 25,000 sq.ft.\n",
    "\n",
    "·      INDUS - proportion of non-retail business acres per town.\n",
    "\n",
    "·      CHAS - Charles River dummy variable (1 if tract bounds river; 0 otherwise)\n",
    "\n",
    "·      NOX - nitric oxides concentration (parts per 10 million)\n",
    "\n",
    "·      RM - average number of rooms per dwelling\n",
    "\n",
    "·      AGE - proportion of owner-occupied units built prior to 1940\n",
    "\n",
    "·      DIS - weighted distances to five Boston employment centres\n",
    "\n",
    "·      RAD - index of accessibility to radial highways\n",
    "\n",
    "·      TAX - full-value property-tax rate per $10,000\n",
    "\n",
    "·      PTRATIO - pupil-teacher ratio by town\n",
    "\n",
    "·      LSTAT - % lower status of the population\n",
    "\n",
    "·      MEDV - Median value of owner-occupied homes in $1000's"
   ]
  },
  {
   "cell_type": "markdown",
   "id": "f2ae8d76",
   "metadata": {},
   "source": [
    "## QUESTION ONE\n",
    "### Is there a significant difference in the median value of houses bounded by the Charles river or not?\n",
    "\n",
    "To evaluate this, we use a T-distribution hypothesis test i.e a t-test. A z-test would not be applicable as the dataset is a sample and not the total population of possible instances.\n",
    "We assume significance level $\\alpha$ = 0.05.\n",
    "\n",
    "Null Hypothesis H<sub>o</sub>: Both variables have no statistical difference. i.e no difference in median values for houses bounded by the Charles River and those that are not.\n",
    "\n",
    "Alternate Hypothesis H<sub>a</sub>: There is a statistical difference between variables."
   ]
  },
  {
   "cell_type": "code",
   "execution_count": 4,
   "id": "c2ebc34c",
   "metadata": {},
   "outputs": [
    {
     "data": {
      "text/plain": [
       "Ttest_indResult(statistic=-3.996437466090509, pvalue=7.390623170519905e-05)"
      ]
     },
     "execution_count": 4,
     "metadata": {},
     "output_type": "execute_result"
    }
   ],
   "source": [
    "#to separate our dataset into houses bounded by Charles River or not, we need a boolean mask.\n",
    "chas_mask = df['CHAS'] == 0\n",
    "\n",
    "# for our ttest,\n",
    "scipy.stats.ttest_ind(df[chas_mask]['MEDV'], df[~chas_mask]['MEDV'])"
   ]
  },
  {
   "cell_type": "markdown",
   "id": "f9160fbd",
   "metadata": {},
   "source": [
    "The ttest returned a p-value less than 0.05; this means that the null hypothesis can be rejected and the alternate hypothesis is the case. i.e there is a significant difference in the median value of houses bounded by the Charles river or not."
   ]
  },
  {
   "cell_type": "code",
   "execution_count": 5,
   "id": "1750035e",
   "metadata": {},
   "outputs": [
    {
     "data": {
      "text/plain": [
       "Text(0.5, 0, 'Bounded by Charles river or not')"
      ]
     },
     "execution_count": 5,
     "metadata": {},
     "output_type": "execute_result"
    },
    {
     "data": {
      "image/png": "[encoded data removed]",
      "text/plain": [
       "<Figure size 1440x360 with 2 Axes>"
      ]
     },
     "metadata": {
      "needs_background": "light"
     },
     "output_type": "display_data"
    }
   ],
   "source": [
    "#VISUALIZATION\n",
    "#To help visualize the ttest's conclusions, let us look at a box plot of the variables.\n",
    "#let's also view a barplot of the Charles River variable\n",
    "\n",
    "plt.figure(figsize=[20, 5])\n",
    "plt.subplot(1, 2, 1)\n",
    "sns.boxplot(data=df, x='CHAS', y='MEDV', whis=30)\n",
    "plt.xticks((0,1), ('Not Bounded', 'Bounded'))\n",
    "plt.xlabel('Bounded by Charles river or not')\n",
    "plt.ylabel(\"Median value of owner-ocupied homes in $1000's\")\n",
    "plt.subplot(1, 2, 2)\n",
    "sns.countplot(data=df, x='CHAS')\n",
    "plt.xticks((0,1), ('Not Bounded', 'Bounded'))\n",
    "plt.xlabel('Bounded by Charles river or not')"
   ]
  },
  {
   "cell_type": "markdown",
   "id": "17b048d2",
   "metadata": {},
   "source": [
    "## QUESTION TWO\n",
    "### Is there a difference in median values of houses of each proportion of owner occupied units built before 1940?\n",
    "\n",
    "To evaluate this, we use a F-distribution hypothesis test i.e ANOVA. ANOVA is used because there is analysis of more than two variables.\n",
    "We assume significance level $\\alpha$ = 0.05.\n",
    "\n",
    "Null Hypothesis H<sub>o</sub>: ALL variables have no statistical difference. i.e no difference in median values for houses built at any time before 1940.\n",
    "\n",
    "Alternate Hypothesis H<sub>a</sub>: There is a statistical difference between variables."
   ]
  },
  {
   "cell_type": "code",
   "execution_count": 6,
   "id": "ba0f4f5b",
   "metadata": {},
   "outputs": [
    {
     "name": "stdout",
     "output_type": "stream",
     "text": [
      "F-statistic: 36.40764999196599, p_value: 1.7105011022702984e-15\n"
     ]
    }
   ],
   "source": [
    "#first we dicretize the AGE variable into three groups: 35 and younger, between 35 and 70, 70 and older.\n",
    "bin_edges = [0.0, 35.0, 70.0, df.AGE.max()]\n",
    "bin_names = ['35 and younger', 'between 35 and 70', '70 and older']\n",
    "df['AGE_GROUP'] = pd.cut(df['AGE'], bin_edges, labels=bin_names)\n",
    "mask_a = df['AGE_GROUP'] == '35 and younger'\n",
    "mask_b = df['AGE_GROUP'] == 'between 35 and 70'\n",
    "mask_c = df['AGE_GROUP'] == '70 and older'\n",
    "#to do the anova statistic,\n",
    "f_statistic, p_value = scipy.stats.f_oneway(df[mask_a]['MEDV'], df[mask_b]['MEDV'], df[mask_c]['MEDV'])\n",
    "print(f\"F-statistic: {f_statistic}, p_value: {p_value}\")"
   ]
  },
  {
   "cell_type": "markdown",
   "id": "bd566052",
   "metadata": {},
   "source": [
    "Since the p-value is less than our chose value for alpha, we reject the null hypothesis and conclude that there is a statistical difference in median values of houses of each proportion of owner-occupied units built some time before 1940."
   ]
  },
  {
   "cell_type": "code",
   "execution_count": 7,
   "id": "bd85ec59",
   "metadata": {},
   "outputs": [
    {
     "data": {
      "text/plain": [
       "<AxesSubplot:xlabel='AGE_GROUP', ylabel='MEDV'>"
      ]
     },
     "execution_count": 7,
     "metadata": {},
     "output_type": "execute_result"
    },
    {
     "data": {
      "image/png": "[encoded data removed]",
      "text/plain": [
       "<Figure size 432x288 with 1 Axes>"
      ]
     },
     "metadata": {
      "needs_background": "light"
     },
     "output_type": "display_data"
    }
   ],
   "source": [
    "#to visulize the result from the statistical test, we will use a boxplot\n",
    "sns.boxplot(data = df, x='AGE_GROUP', y='MEDV', whis = 10)"
   ]
  },
  {
   "cell_type": "markdown",
   "id": "906ff8c4",
   "metadata": {},
   "source": [
    "## QUESTION THREE\n",
    "### Can we conclude that there is no relationship between Nitric Oxide concentrations and the proportion of non-retail business acres per town?\n",
    "\n",
    "To evaluate this, we use a Pearson correlation test.\n",
    "We assume significance level $\\alpha$ = 0.05.\n",
    "\n",
    "Null Hypothesis H<sub>o</sub>: There is no association between variables. i.e Nitric oxide concentrations has nothing to do with the proportion of non-retail business acres per town (and vice versa).\n",
    "\n",
    "Alternate Hypothesis H<sub>a</sub>: There is an association between Nitric Oxide concentrations and proportion of non-retail business acres per town."
   ]
  },
  {
   "cell_type": "code",
   "execution_count": 8,
   "id": "d9c263aa",
   "metadata": {},
   "outputs": [
    {
     "name": "stdout",
     "output_type": "stream",
     "text": [
      "Pearson correlation coefficient: 0.7636514469209161, p-value: 7.913361061230596e-98\n"
     ]
    }
   ],
   "source": [
    "coeff, p_value = scipy.stats.pearsonr(df['NOX'], df['INDUS'])\n",
    "print(f\"Pearson correlation coefficient: {coeff}, p-value: {p_value}\")"
   ]
  },
  {
   "cell_type": "markdown",
   "id": "5f12ca83",
   "metadata": {},
   "source": [
    "A p-value that low means the null hypothesis can be rejected and we can conclude that there is an association between the Nitric Oxide concentrations in the environment and the number of industries in that environment.\n",
    "A pearson correlation coefficient of 0.763 suggests a strong positive correlation between the variables. In other words, more non-retail businesses will usually result in higher Nitric oxide concentrations.\n",
    "\n",
    "We can visualize this on a scatter plot."
   ]
  },
  {
   "cell_type": "code",
   "execution_count": 9,
   "id": "e0390be7",
   "metadata": {},
   "outputs": [
    {
     "data": {
      "text/plain": [
       "Text(0, 0.5, 'Nitric oxide concentrations')"
      ]
     },
     "execution_count": 9,
     "metadata": {},
     "output_type": "execute_result"
    },
    {
     "data": {
      "image/png": "[encoded data removed]",
      "text/plain": [
       "<Figure size 432x288 with 1 Axes>"
      ]
     },
     "metadata": {
      "needs_background": "light"
     },
     "output_type": "display_data"
    }
   ],
   "source": [
    "sns.regplot(data = df, x='INDUS', y='NOX', fit_reg=False)\n",
    "plt.xlabel('Proportion of non-retail business acres per town')\n",
    "plt.ylabel('Nitric oxide concentrations')"
   ]
  },
  {
   "cell_type": "markdown",
   "id": "f39d1740",
   "metadata": {},
   "source": [
    "## QUESTION FOUR\n",
    "### What is the impact of an additional weighted distance to the five Boston employment centres on the median value of owner-occupied homes?\n",
    "\n",
    "To evaluate this, we use regression analysis."
   ]
  },
  {
   "cell_type": "code",
   "execution_count": 10,
   "id": "9e150bde",
   "metadata": {},
   "outputs": [
    {
     "data": {
      "text/html": [
       "<table class=\"simpletable\">\n",
       "<caption>OLS Regression Results</caption>\n",
       "<tr>\n",
       "  <th>Dep. Variable:</th>          <td>MEDV</td>       <th>  R-squared:         </th> <td>   0.062</td>\n",
       "</tr>\n",
       "<tr>\n",
       "  <th>Model:</th>                   <td>OLS</td>       <th>  Adj. R-squared:    </th> <td>   0.061</td>\n",
       "</tr>\n",
       "<tr>\n",
       "  <th>Method:</th>             <td>Least Squares</td>  <th>  F-statistic:       </th> <td>   33.58</td>\n",
       "</tr>\n",
       "<tr>\n",
       "  <th>Date:</th>             <td>Sat, 08 Oct 2022</td> <th>  Prob (F-statistic):</th> <td>1.21e-08</td>\n",
       "</tr>\n",
       "<tr>\n",
       "  <th>Time:</th>                 <td>19:27:16</td>     <th>  Log-Likelihood:    </th> <td> -1823.9</td>\n",
       "</tr>\n",
       "<tr>\n",
       "  <th>No. Observations:</th>      <td>   506</td>      <th>  AIC:               </th> <td>   3652.</td>\n",
       "</tr>\n",
       "<tr>\n",
       "  <th>Df Residuals:</th>          <td>   504</td>      <th>  BIC:               </th> <td>   3660.</td>\n",
       "</tr>\n",
       "<tr>\n",
       "  <th>Df Model:</th>              <td>     1</td>      <th>                     </th>     <td> </td>   \n",
       "</tr>\n",
       "<tr>\n",
       "  <th>Covariance Type:</th>      <td>nonrobust</td>    <th>                     </th>     <td> </td>   \n",
       "</tr>\n",
       "</table>\n",
       "<table class=\"simpletable\">\n",
       "<tr>\n",
       "    <td></td>       <th>coef</th>     <th>std err</th>      <th>t</th>      <th>P>|t|</th>  <th>[0.025</th>    <th>0.975]</th>  \n",
       "</tr>\n",
       "<tr>\n",
       "  <th>const</th> <td>   18.3901</td> <td>    0.817</td> <td>   22.499</td> <td> 0.000</td> <td>   16.784</td> <td>   19.996</td>\n",
       "</tr>\n",
       "<tr>\n",
       "  <th>DIS</th>   <td>    1.0916</td> <td>    0.188</td> <td>    5.795</td> <td> 0.000</td> <td>    0.722</td> <td>    1.462</td>\n",
       "</tr>\n",
       "</table>\n",
       "<table class=\"simpletable\">\n",
       "<tr>\n",
       "  <th>Omnibus:</th>       <td>139.779</td> <th>  Durbin-Watson:     </th> <td>   0.570</td>\n",
       "</tr>\n",
       "<tr>\n",
       "  <th>Prob(Omnibus):</th> <td> 0.000</td>  <th>  Jarque-Bera (JB):  </th> <td> 305.104</td>\n",
       "</tr>\n",
       "<tr>\n",
       "  <th>Skew:</th>          <td> 1.466</td>  <th>  Prob(JB):          </th> <td>5.59e-67</td>\n",
       "</tr>\n",
       "<tr>\n",
       "  <th>Kurtosis:</th>      <td> 5.424</td>  <th>  Cond. No.          </th> <td>    9.32</td>\n",
       "</tr>\n",
       "</table><br/><br/>Notes:<br/>[1] Standard Errors assume that the covariance matrix of the errors is correctly specified."
      ],
      "text/plain": [
       "<class 'statsmodels.iolib.summary.Summary'>\n",
       "\"\"\"\n",
       "                            OLS Regression Results                            \n",
       "==============================================================================\n",
       "Dep. Variable:                   MEDV   R-squared:                       0.062\n",
       "Model:                            OLS   Adj. R-squared:                  0.061\n",
       "Method:                 Least Squares   F-statistic:                     33.58\n",
       "Date:                Sat, 08 Oct 2022   Prob (F-statistic):           1.21e-08\n",
       "Time:                        19:27:16   Log-Likelihood:                -1823.9\n",
       "No. Observations:                 506   AIC:                             3652.\n",
       "Df Residuals:                     504   BIC:                             3660.\n",
       "Df Model:                           1                                         \n",
       "Covariance Type:            nonrobust                                         \n",
       "==============================================================================\n",
       "                 coef    std err          t      P>|t|      [0.025      0.975]\n",
       "------------------------------------------------------------------------------\n",
       "const         18.3901      0.817     22.499      0.000      16.784      19.996\n",
       "DIS            1.0916      0.188      5.795      0.000       0.722       1.462\n",
       "==============================================================================\n",
       "Omnibus:                      139.779   Durbin-Watson:                   0.570\n",
       "Prob(Omnibus):                  0.000   Jarque-Bera (JB):              305.104\n",
       "Skew:                           1.466   Prob(JB):                     5.59e-67\n",
       "Kurtosis:                       5.424   Cond. No.                         9.32\n",
       "==============================================================================\n",
       "\n",
       "Notes:\n",
       "[1] Standard Errors assume that the covariance matrix of the errors is correctly specified.\n",
       "\"\"\""
      ]
     },
     "execution_count": 10,
     "metadata": {},
     "output_type": "execute_result"
    }
   ],
   "source": [
    "x = df['DIS'] #independent variable\n",
    "y = df['MEDV'] #dependent variable\n",
    "\n",
    "x = sm.add_constant(x) #add constant \n",
    "model = sm.OLS(y, x).fit() #create linear regression model and fit to data\n",
    "predictions = model.predict(x)\n",
    "model.summary()"
   ]
  },
  {
   "cell_type": "markdown",
   "id": "4163a158",
   "metadata": {},
   "source": [
    "The Ordinary Least Squares (OLS) regression model gives the result y = 18.3901 + 1.0916x, where y is the median value of owner occupied homes and x is the weighted distance to the five Boston employment centres.\n",
    "In simpler terms, when the distance is zero, the median value is \\\\$18,390.1 and every unit increase in the distance equals a $1,000 increase in the median value."
   ]
  },
  {
   "cell_type": "markdown",
   "id": "610393c3",
   "metadata": {},
   "source": [
    "## DISTRIBUTION PLOT OF PUPIL TO TEACHER RATIO"
   ]
  },
  {
   "cell_type": "code",
   "execution_count": 11,
   "id": "39531084",
   "metadata": {
    "scrolled": true
   },
   "outputs": [
    {
     "name": "stdout",
     "output_type": "stream",
     "text": [
      "22.0 12.6\n"
     ]
    }
   ],
   "source": [
    "print(df['PTRATIO'].max(), df['PTRATIO'].min())"
   ]
  },
  {
   "cell_type": "code",
   "execution_count": 12,
   "id": "82475bd1",
   "metadata": {
    "scrolled": true
   },
   "outputs": [
    {
     "data": {
      "image/png": "[encoded data removed]",
      "text/plain": [
       "<Figure size 432x288 with 1 Axes>"
      ]
     },
     "metadata": {
      "needs_background": "light"
     },
     "output_type": "display_data"
    }
   ],
   "source": [
    "ticks = np.arange(12, 24, 1)\n",
    "labes = [str(v) for v in ticks]\n",
    "plt.hist(df['PTRATIO'], bins = ticks)\n",
    "plt.xticks(ticks, labes)\n",
    "plt.xlabel('Pupil-Teacher ratio')\n",
    "plt.title('Distribution of Pupil-Teacher ratio by town.');"
   ]
  }
 ],
 "metadata": {
  "kernelspec": {
   "display_name": "Python 3 (ipykernel)",
   "language": "python",
   "name": "python3"
  },
  "language_info": {
   "codemirror_mode": {
    "name": "ipython",
    "version": 3
   },
   "file_extension": ".py",
   "mimetype": "text/x-python",
   "name": "python",
   "nbconvert_exporter": "python",
   "pygments_lexer": "ipython3",
   "version": "3.10.4"
  }
 },
 "nbformat": 4,
 "nbformat_minor": 5
}
